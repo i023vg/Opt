{
  "nbformat": 4,
  "nbformat_minor": 0,
  "metadata": {
    "colab": {
      "name": "最適化問題.ipynb",
      "provenance": [],
      "collapsed_sections": [],
      "toc_visible": true
    },
    "kernelspec": {
      "name": "python3",
      "display_name": "Python 3"
    },
    "language_info": {
      "name": "python"
    }
  },
  "cells": [
    {
      "cell_type": "markdown",
      "metadata": {
        "id": "7zYu7cXUiz-G"
      },
      "source": [
        "[Python 最適化](https://techacademy.jp/magazine/20619)"
      ]
    },
    {
      "cell_type": "code",
      "metadata": {
        "colab": {
          "base_uri": "https://localhost:8080/"
        },
        "id": "GnhMZuIuiwF-",
        "outputId": "c8af8752-d930-49d2-fe5f-74c2706c1c58"
      },
      "source": [
        "!pip install pulp"
      ],
      "execution_count": 1,
      "outputs": [
        {
          "output_type": "stream",
          "name": "stdout",
          "text": [
            "Collecting pulp\n",
            "  Downloading PuLP-2.5.1-py3-none-any.whl (41.2 MB)\n",
            "\u001b[K     |████████████████████████████████| 41.2 MB 76 kB/s \n",
            "\u001b[?25hInstalling collected packages: pulp\n",
            "Successfully installed pulp-2.5.1\n"
          ]
        }
      ]
    },
    {
      "cell_type": "markdown",
      "metadata": {
        "id": "Z3-rTL1njGOO"
      },
      "source": [
        "## 例題\n",
        "あるレストランで、手持ちの材料からハンバーグとオムレツを作って利益を最大にしたいと考えています。手持ちの材料は以下の通りです。\n",
        "\n",
        "* ひき肉 3800 [g]\n",
        "* タマネギ 2100 [g]\n",
        "* ケチャップ 1200 [g]  \n",
        "\n",
        "商品を作るのに必要な材料の量は以下の通りです。\n",
        "\n",
        "* ハンバーグ 1 個あたり、ひき肉 60 [g]、タマネギ 20 [g]、ケチャップ 20 [g]\n",
        "* オムレツ 1 個あたり、ひき肉 40 [g]、タマネギ 30 [g]、ケチャップ 10 [g]  \n",
        "\n",
        "販売価格は以下の通りです。\n",
        "\n",
        "* ハンバーグ 400 [円/個]\n",
        "* オムレツ 300 [円/個]\n",
        "\n",
        "総売上を最大にするには、ハンバーグとオムレツを幾つずつ作れば良いでしょうか。"
      ]
    },
    {
      "cell_type": "code",
      "metadata": {
        "id": "MOvOGGtPi_VU"
      },
      "source": [
        "from pulp.pulp import LpProblem\n",
        "from pulp.pulp import LpVariable\n",
        "from pulp.constants import LpMaximize"
      ],
      "execution_count": 2,
      "outputs": []
    },
    {
      "cell_type": "code",
      "metadata": {
        "id": "8JE2mF_Fjm5y"
      },
      "source": [
        "# 今回の問題では総和を最大化するので LpMaximize を指定する\n",
        "problem = LpProblem('Restaurant', LpMaximize)\n"
      ],
      "execution_count": null,
      "outputs": []
    },
    {
      "cell_type": "code",
      "metadata": {
        "id": "nJelQXpDjr3o"
      },
      "source": [
        "# 使用する変数\n",
        "hamburg = LpVariable('Hamburg')\n",
        "omelet = LpVariable('Omelet')"
      ],
      "execution_count": null,
      "outputs": []
    },
    {
      "cell_type": "code",
      "metadata": {
        "id": "Bm5oYMe6jzkG"
      },
      "source": [
        "# 目的関数\n",
        "problem += 400 * hamburg + 300 * omelet\n",
        "\n",
        "# 制約条件\n",
        "problem += 60 * hamburg + 40 * omelet <= 3800  # ひき肉の総量は 3800g\n",
        "problem += 20 * hamburg + 30 * omelet <= 2100  # 玉ねぎの総量は 2100g\n",
        "problem += 20 * hamburg + 10 * omelet <= 1200  # ケチャップの総量は 1200g"
      ],
      "execution_count": null,
      "outputs": []
    },
    {
      "cell_type": "code",
      "metadata": {
        "colab": {
          "base_uri": "https://localhost:8080/"
        },
        "id": "URYIIbmwkCdF",
        "outputId": "1bbd6183-0f0a-4069-e55f-c0f285ae924f"
      },
      "source": [
        "# 解く\n",
        "problem.solve()\n",
        "\n",
        "# 結果表示\n",
        "print('ハンバーグの個数: {hamburg}'.format(hamburg=hamburg.value()))\n",
        "print('オムレツの個数: {omelet}'.format(omelet=omelet.value()))"
      ],
      "execution_count": null,
      "outputs": [
        {
          "output_type": "stream",
          "name": "stdout",
          "text": [
            "ハンバーグの個数: 30.0\n",
            "オムレツの個数: 50.0\n"
          ]
        }
      ]
    },
    {
      "cell_type": "markdown",
      "metadata": {
        "id": "SLKoTG8bXxFf"
      },
      "source": [
        "\n",
        "\n",
        "---\n",
        "\n",
        "\n",
        "\n",
        "---\n",
        "\n"
      ]
    },
    {
      "cell_type": "markdown",
      "metadata": {
        "id": "nTLmiabKX6hN"
      },
      "source": [
        "# 例題2（線形最適化問題）\n",
        "https://mikiokubo.github.io/analytics/optimization.html"
      ]
    },
    {
      "cell_type": "markdown",
      "metadata": {
        "id": "qxLo12ZCYFuf"
      },
      "source": [
        "* トンコケ，コケトン，ミックスの丼を販売\n",
        "* 資源制約の下で，利益を最大化\n",
        "\n",
        "変数\n",
        "\n",
        "* トンコケ丼 $x_1$ ，コケトン丼 $x_2$​ ，ミックス丼 $x_3$\n",
        " \n",
        "* 定式化  \n",
        "$maximize$ $15x_1+18x_2+30x_3$  \n",
        "$s.t.$  \n",
        "$2x_1+x_2+x_3<=60$  \n",
        "$x_1+2x_2+x_3<=60$  \n",
        "$x_3<=30$  \n",
        "$x_1,x_2,x_3>=0$\n"
      ]
    },
    {
      "cell_type": "code",
      "metadata": {
        "id": "97n5CTCArLW3"
      },
      "source": [
        "# 今回の問題では総和を最大化するので LpMaximize を指定する\n",
        "problem = LpProblem('Restaurant', LpMaximize)\n"
      ],
      "execution_count": 3,
      "outputs": []
    },
    {
      "cell_type": "code",
      "metadata": {
        "id": "u-csTiXgX9yV"
      },
      "source": [
        "# 使用する変数\n",
        "x1 = LpVariable('x1')\n",
        "x2 = LpVariable('x2')\n",
        "x3 = LpVariable('x3')"
      ],
      "execution_count": 4,
      "outputs": []
    },
    {
      "cell_type": "code",
      "metadata": {
        "id": "NKqUrJ5LaTZS"
      },
      "source": [
        "# 目的関数\n",
        "problem += 15 * x1 + 18 * x2 + 30 * x3\n",
        "\n",
        "# 制約条件\n",
        "problem += 2 * x1 + 1 * x2 + 1 * x3 <= 60\n",
        "problem += 1 * x1 + 2 * x2 + 1 * x3 <= 60\n",
        "problem += x3 <= 30\n",
        "problem += x1 >= 0\n",
        "problem += x2 >= 0\n",
        "problem += x3 >= 0"
      ],
      "execution_count": 5,
      "outputs": []
    },
    {
      "cell_type": "code",
      "metadata": {
        "colab": {
          "base_uri": "https://localhost:8080/"
        },
        "id": "TlPpxNkta--1",
        "outputId": "f1ee03ab-89dd-480d-907a-1b4ed83fa836"
      },
      "source": [
        "# 解く\n",
        "problem.solve()\n",
        "\n",
        "# 結果表示\n",
        "print(f'x1: {x1.value()}')\n",
        "print(f'x2: {x2.value()}')\n",
        "print(f'x3: {x3.value()}')"
      ],
      "execution_count": 6,
      "outputs": [
        {
          "output_type": "stream",
          "name": "stdout",
          "text": [
            "x1: 10.0\n",
            "x2: 10.0\n",
            "x3: 30.0\n"
          ]
        }
      ]
    },
    {
      "cell_type": "markdown",
      "metadata": {
        "id": "xiDRK5adch3I"
      },
      "source": [
        "別の解き方"
      ]
    },
    {
      "cell_type": "code",
      "metadata": {
        "colab": {
          "base_uri": "https://localhost:8080/"
        },
        "id": "vZNASDCZbT-4",
        "outputId": "9b5b184c-d963-4787-b6f2-d4d947414e6f"
      },
      "source": [
        "!pip install gurobipy"
      ],
      "execution_count": 9,
      "outputs": [
        {
          "output_type": "stream",
          "name": "stdout",
          "text": [
            "Collecting gurobipy\n",
            "  Downloading gurobipy-9.1.2-cp37-cp37m-manylinux1_x86_64.whl (11.1 MB)\n",
            "\u001b[K     |████████████████████████████████| 11.1 MB 4.9 MB/s \n",
            "\u001b[?25hInstalling collected packages: gurobipy\n",
            "Successfully installed gurobipy-9.1.2\n"
          ]
        }
      ]
    },
    {
      "cell_type": "code",
      "metadata": {
        "id": "tzPwZab8caxk"
      },
      "source": [
        "from gurobipy import GRB, Model, quicksum, multidict, tuplelist"
      ],
      "execution_count": 10,
      "outputs": []
    },
    {
      "cell_type": "code",
      "metadata": {
        "colab": {
          "base_uri": "https://localhost:8080/"
        },
        "id": "YVrpSoeWcgpQ",
        "outputId": "599cb54c-c043-46fb-ac9c-7b6df42371aa"
      },
      "source": [
        "model = Model('lo1')\n",
        "\n",
        "x1 = model.addVar(name='x1')\n",
        "x2 = model.addVar(name='x2')\n",
        "x3 = model.addVar(ub=30., name='x3')\n",
        "\n",
        "model.update() #Gurobiの怠惰な更新(lazy update)という仕様（忘れずに！）"
      ],
      "execution_count": 11,
      "outputs": [
        {
          "output_type": "stream",
          "name": "stdout",
          "text": [
            "Restricted license - for non-production use only - expires 2022-01-13\n"
          ]
        }
      ]
    },
    {
      "cell_type": "code",
      "metadata": {
        "colab": {
          "base_uri": "https://localhost:8080/"
        },
        "id": "8MPN47n9dJ6w",
        "outputId": "72e20e1a-0fe3-4205-9bb6-0f20d8bb5f97"
      },
      "source": [
        "model.addConstr(2*x1 + x2 + x3 <= 60)\n",
        "# 別の定義方法 1\n",
        "#L1 = LinExpr([2,1,1],[x1,x2,x3]) #線形表現(式）\n",
        "# 別の定義方法 2\n",
        "#L1 = LinExpr()     #線形表現(式）\n",
        "#L1.addTerms(2,x1)  #項を追加\n",
        "#L1.addTerms(1,x2)\n",
        "#L1.addTerms(1,x3)\n",
        "#model.addConstr(lhs=L1,sense='<',rhs=60)  #制約を追加\n",
        "\n",
        "model.addConstr(x1 + 2*x2 + x3 <= 60)\n",
        "\n",
        "model.setObjective(15*x1 + 18*x2 + 30*x3, GRB.MAXIMIZE)\n",
        "\n",
        "#SCIPを使用したい場合\n",
        "# import pulp\n",
        "# solver = pulp.SCIP()\n",
        "# model.optimize(solver)\n",
        "\n",
        "model.optimize()"
      ],
      "execution_count": 12,
      "outputs": [
        {
          "output_type": "stream",
          "name": "stdout",
          "text": [
            "Gurobi Optimizer version 9.1.2 build v9.1.2rc0 (linux64)\n",
            "Thread count: 1 physical cores, 2 logical processors, using up to 2 threads\n",
            "Optimize a model with 2 rows, 3 columns and 6 nonzeros\n",
            "Model fingerprint: 0x1da73bc0\n",
            "Coefficient statistics:\n",
            "  Matrix range     [1e+00, 2e+00]\n",
            "  Objective range  [2e+01, 3e+01]\n",
            "  Bounds range     [3e+01, 3e+01]\n",
            "  RHS range        [6e+01, 6e+01]\n",
            "Presolve time: 0.02s\n",
            "Presolved: 2 rows, 3 columns, 6 nonzeros\n",
            "\n",
            "Iteration    Objective       Primal Inf.    Dual Inf.      Time\n",
            "       0    3.3000000e+31   3.000000e+30   3.300000e+01      0s\n",
            "       3    1.2300000e+03   0.000000e+00   0.000000e+00      0s\n",
            "\n",
            "Solved in 3 iterations and 0.03 seconds\n",
            "Optimal objective  1.230000000e+03\n"
          ]
        }
      ]
    },
    {
      "cell_type": "code",
      "metadata": {
        "colab": {
          "base_uri": "https://localhost:8080/"
        },
        "id": "P3sissY-dN0i",
        "outputId": "0f31bc7b-f954-444d-c749-447f97e382a3"
      },
      "source": [
        "if model.Status == GRB.Status.OPTIMAL:\n",
        "    print('Opt. Value=',model.ObjVal)\n",
        "    for v in model.getVars():\n",
        "        print(v.VarName,v.X)"
      ],
      "execution_count": 13,
      "outputs": [
        {
          "output_type": "stream",
          "name": "stdout",
          "text": [
            "Opt. Value= 1230.0\n",
            "x1 10.0\n",
            "x2 10.0\n",
            "x3 30.0\n"
          ]
        }
      ]
    }
  ]
}